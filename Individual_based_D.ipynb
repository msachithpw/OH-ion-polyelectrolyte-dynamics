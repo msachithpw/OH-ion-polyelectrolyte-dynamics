{
 "cells": [
  {
   "cell_type": "markdown",
   "metadata": {},
   "source": [
    "# Individual based D\n",
    "\n",
    "### MSD is first calculated for each OH to compute individual D, then the average is taken"
   ]
  },
  {
   "cell_type": "code",
   "execution_count": 1,
   "metadata": {},
   "outputs": [],
   "source": [
    "import numpy as np\n",
    "import math\n",
    "import matplotlib.pyplot as plt\n",
    "import matplotlib.ticker as mtick\n",
    "from numpy.linalg import eig"
   ]
  },
  {
   "cell_type": "code",
   "execution_count": 2,
   "metadata": {},
   "outputs": [],
   "source": [
    "nrep = 1  # number of replications\n",
    "#path_main = \"C:/Users/Sachith/Desktop/work_oh/bulk_water/\"\n",
    "path_main = \"C:/Users/Sachith/Desktop/work_oh/long/12_13/water20\" \n",
    "path = [None] * (nrep)\n",
    "nn = 0\n",
    "while (nn<nrep):\n",
    "    path[nn] = path_main +'md'+str(nn+1)\n",
    "    nn = nn+1\n",
    "\n",
    "\n",
    "#path.remove(\"C:/Users/Sachith/Desktop/work_oh/different_water_density/water20/md1\")\n",
    "#path.remove(\"C:/Users/Sachith/Desktop/work_oh/different_water_density/water25/md2\")\n",
    "#path.remove(\"C:/Users/Sachith/Desktop/work_oh/different_water_density/water25/md3\")\n",
    "#path.remove(\"C:/Users/Sachith/Desktop/work_oh/different_water_density/water25/md23\")\n",
    "#path.remove(\"C:/Users/Sachith/Desktop/work_oh/different_water_density/water25/md25\")\n",
    "#path.remove(\"C:/Users/Sachith/Desktop/work_oh/Differnt_separations/15_13/water_20/md19\")\n",
    "#path.remove(\"C:/Users/Sachith/Desktop/work_oh/different_substituents/(CO)NH2/md23\")\n",
    "path[0] = \"C:/Users/Sachith/Desktop/work_oh/long/12_13/water20\""
   ]
  },
  {
   "cell_type": "code",
   "execution_count": 3,
   "metadata": {},
   "outputs": [
    {
     "data": {
      "text/plain": [
       "1"
      ]
     },
     "execution_count": 3,
     "metadata": {},
     "output_type": "execute_result"
    }
   ],
   "source": [
    "nrep =len(path)\n",
    "nrep"
   ]
  },
  {
   "cell_type": "code",
   "execution_count": 4,
   "metadata": {},
   "outputs": [
    {
     "ename": "FileNotFoundError",
     "evalue": "[Errno 2] No such file or directory: 'C:/Users/Sachith/Desktop/work_oh/long/12_13/water20/input_data.dat'",
     "output_type": "error",
     "traceback": [
      "\u001b[1;31m---------------------------------------------------------------------------\u001b[0m",
      "\u001b[1;31mFileNotFoundError\u001b[0m                         Traceback (most recent call last)",
      "\u001b[1;32m<ipython-input-4-bd95d3cd20a3>\u001b[0m in \u001b[0;36m<module>\u001b[1;34m\u001b[0m\n\u001b[1;32m----> 1\u001b[1;33m \u001b[0mf\u001b[0m\u001b[1;33m=\u001b[0m\u001b[0mopen\u001b[0m\u001b[1;33m(\u001b[0m\u001b[0mpath\u001b[0m\u001b[1;33m[\u001b[0m\u001b[1;36m0\u001b[0m\u001b[1;33m]\u001b[0m \u001b[1;33m+\u001b[0m\u001b[1;34m'/input_data.dat'\u001b[0m\u001b[1;33m,\u001b[0m\u001b[1;34m'r'\u001b[0m\u001b[1;33m)\u001b[0m\u001b[1;33m\u001b[0m\u001b[1;33m\u001b[0m\u001b[0m\n\u001b[0m\u001b[0;32m      2\u001b[0m \u001b[0mlines\u001b[0m\u001b[1;33m=\u001b[0m\u001b[0mf\u001b[0m\u001b[1;33m.\u001b[0m\u001b[0mreadlines\u001b[0m\u001b[1;33m(\u001b[0m\u001b[1;33m)\u001b[0m\u001b[1;33m\u001b[0m\u001b[1;33m\u001b[0m\u001b[0m\n\u001b[0;32m      3\u001b[0m \u001b[1;32mfor\u001b[0m \u001b[0mline\u001b[0m \u001b[1;32min\u001b[0m \u001b[0mlines\u001b[0m\u001b[1;33m[\u001b[0m\u001b[1;36m0\u001b[0m\u001b[1;33m:\u001b[0m\u001b[1;33m]\u001b[0m\u001b[1;33m:\u001b[0m\u001b[1;33m\u001b[0m\u001b[1;33m\u001b[0m\u001b[0m\n\u001b[0;32m      4\u001b[0m     \u001b[0mdata\u001b[0m\u001b[1;33m=\u001b[0m\u001b[0mline\u001b[0m\u001b[1;33m.\u001b[0m\u001b[0msplit\u001b[0m\u001b[1;33m(\u001b[0m\u001b[1;33m)\u001b[0m\u001b[1;33m\u001b[0m\u001b[1;33m\u001b[0m\u001b[0m\n\u001b[0;32m      5\u001b[0m     \u001b[1;32mif\u001b[0m \u001b[0mdata\u001b[0m\u001b[1;33m[\u001b[0m\u001b[1;36m0\u001b[0m\u001b[1;33m]\u001b[0m\u001b[1;33m==\u001b[0m\u001b[1;34m'nsteps:'\u001b[0m\u001b[1;33m:\u001b[0m\u001b[1;33m\u001b[0m\u001b[1;33m\u001b[0m\u001b[0m\n",
      "\u001b[1;31mFileNotFoundError\u001b[0m: [Errno 2] No such file or directory: 'C:/Users/Sachith/Desktop/work_oh/long/12_13/water20/input_data.dat'"
     ]
    }
   ],
   "source": [
    "f=open(path[0] +'/input_data.dat','r')\n",
    "lines=f.readlines()\n",
    "for line in lines[0:]:\n",
    "    data=line.split()\n",
    "    if data[0]=='nsteps:':\n",
    "        nsteps = int(data[1])\n",
    "    if data[0]=='natoms:':\n",
    "        natoms = int(data[1])\n",
    "    if data[0]=='nonmvat:':\n",
    "        nonmvat = int(data[1])\n",
    "    if data[0]=='nmovingatoms:':\n",
    "        nmovingatoms = int(data[1])\n",
    "    if data[0]=='MDRestartFrequency:':\n",
    "        MDRestartFrequency = int(data[1])\n",
    "    if data[0]=='dt:':\n",
    "        dt = float(data[1])\n",
    "    if data[0]=='noh:':\n",
    "        noh = int(data[1])\n",
    "    if data[0]=='nwater:':\n",
    "        nwater = int(data[1])\n",
    "    if data[0]=='nox:':\n",
    "        nox = int(data[1])\n",
    "    if data[0]=='nhy:':\n",
    "        nhy = int(data[1])\n",
    "    if data[0]=='xbox:':\n",
    "        xbox = float(data[1])\n",
    "    if data[0]=='ybox:':\n",
    "        ybox = float(data[1])\n",
    "    if data[0]=='zbox:':\n",
    "        zbox = float(data[1])\n",
    "\n",
    "nsteps = int((nsteps/MDRestartFrequency)+1)-1 #+ int((nsteps2/MDRestartFrequency)+1)-2 #+int((nsteps3/MDRestartFrequency)+1)\n",
    "#nsteps = 930\n",
    "nstep = nsteps\n",
    "        \n",
    "print('nsteps:','  ',nsteps )\n",
    "print('natoms:','  ',natoms)\n",
    "print('nonmvat:','  ',nonmvat)\n",
    "print('nmovingatoms:','  ',nmovingatoms)\n",
    "print('MDRestartFrequency:','  ',MDRestartFrequency)\n",
    "print('dt:','  ',dt)\n",
    "print('noh:','  ',noh)\n",
    "print('nwater:','  ',nwater)\n",
    "print('nox:','  ',nox)\n",
    "print('nhy:','  ',nhy)\n",
    "print('xbox:','  ',xbox)\n",
    "print('ybox:','  ',ybox)\n",
    "print('zbox:','  ',zbox)"
   ]
  },
  {
   "cell_type": "code",
   "execution_count": null,
   "metadata": {},
   "outputs": [],
   "source": [
    "x_oh = np.empty(nsteps*nrep).reshape(nrep,nsteps)\n",
    "y_oh = np.empty(nsteps*nrep).reshape(nrep,nsteps)\n",
    "z_oh = np.empty(nsteps*nrep).reshape(nrep,nsteps)"
   ]
  },
  {
   "cell_type": "code",
   "execution_count": null,
   "metadata": {},
   "outputs": [],
   "source": [
    "kk = 0\n",
    "while (kk<nrep):\n",
    "    ii = 0\n",
    "    f=open(path[kk] +'/oh1.dat','r')\n",
    "    lines=f.readlines()\n",
    "    for line in lines[:nsteps]:\n",
    "        data=line.split()\n",
    "        x_oh[kk,ii]=float(data[2])\n",
    "        y_oh[kk,ii]=float(data[3])\n",
    "        z_oh[kk,ii]=float(data[4])\n",
    "        ii = ii+1\n",
    "    f.close()\n",
    "    kk = kk+1"
   ]
  },
  {
   "cell_type": "code",
   "execution_count": null,
   "metadata": {},
   "outputs": [],
   "source": [
    "plt.figure()\n",
    "rr = np.sqrt(((x_oh[0,:])**2+(y_oh[0,:])**2))\n",
    "plt.plot(rr)"
   ]
  },
  {
   "cell_type": "code",
   "execution_count": null,
   "metadata": {},
   "outputs": [],
   "source": []
  },
  {
   "cell_type": "code",
   "execution_count": null,
   "metadata": {},
   "outputs": [],
   "source": [
    "kk = 0\n",
    "while (kk<nrep):\n",
    "    \n",
    "    ll = 0\n",
    "    x_old = x_oh[kk,0]\n",
    "    y_old = y_oh[kk,0]\n",
    "    while ll<(nsteps):\n",
    "        ijk = 1\n",
    "        while ijk < 2:\n",
    "            ijk = ijk+1\n",
    "            if abs(x_oh[kk,ll]-x_old)>5:\n",
    "                if x_oh[kk,ll]>x_old:\n",
    "                    x_oh[kk,ll] = x_oh[kk,ll]-xbox\n",
    "                    ijk = 1\n",
    "                elif x_oh[kk,ll]<x_old:\n",
    "                    x_oh[kk,ll] = x_oh[kk,ll]+xbox\n",
    "                    ijk = 1\n",
    "            if abs(y_oh[kk,ll]-y_old)>5: # atom need to be moved in y\n",
    "                if y_oh[kk,ll]>y_old:\n",
    "                    y_oh[kk,ll] = y_oh[kk,ll]-ybox\n",
    "                    ijk = 1\n",
    "                elif y_oh[kk,ll]<y_old:\n",
    "                    y_oh[kk,ll] = y_oh[kk,ll]+ybox\n",
    "                    ijk = 1\n",
    "        x_old = x_oh[kk,ll]\n",
    "        y_old = y_oh[kk,ll]\n",
    "        ll = ll+1\n",
    "    \n",
    "    \n",
    "    kk = kk+1"
   ]
  },
  {
   "cell_type": "code",
   "execution_count": null,
   "metadata": {},
   "outputs": [],
   "source": [
    "ndt = 100\n",
    "mmsdx = np.empty(ndt)\n",
    "mmsdy = np.empty(ndt)\n",
    "mmsdz = np.empty(ndt)\n",
    "mmsdxy = np.empty(ndt)\n",
    "mmsdxz = np.empty(ndt)\n",
    "mmsdyz = np.empty(ndt)\n",
    "dtime = np.empty(ndt)\n",
    "dtime=  np.arange(0.01, (0.01*ndt+0.01), 0.01)\n",
    "\n",
    "Dfxx = np.empty(nrep)  \n",
    "Dfyy = np.empty(nrep)\n",
    "Dfzz = np.empty(nrep)\n",
    "Dfxy = np.empty(nrep)\n",
    "Dfxz = np.empty(nrep)\n",
    "Dfyz = np.empty(nrep)\n",
    "Dfx2d = np.empty(nrep)\n",
    "Dfy2d = np.empty(nrep)\n",
    "Df2d = np.empty(nrep)\n",
    "\n",
    "ll = 0\n",
    "while ll<nrep:\n",
    "    kk = 0\n",
    "    while kk<ndt:\n",
    "        mmsdx[kk] = 0.0\n",
    "        mmsdy[kk] = 0.0\n",
    "        mmsdz[kk] = 0.0\n",
    "        mmsdxy[kk] = 0.0\n",
    "        mmsdxz[kk] = 0.0\n",
    "        mmsdyz[kk] = 0.0\n",
    "        jj = 0\n",
    "        while jj< ((nsteps/(kk+1))-1):\n",
    "            mmsdx[kk] = (x_oh[ll,(jj*(kk+1)+kk+1)]-x_oh[ll,jj*(kk+1)])**2+mmsdx[kk]\n",
    "            mmsdy[kk] = (y_oh[ll,(jj*(kk+1)+kk+1)]-y_oh[ll,jj*(kk+1)])**2+mmsdy[kk]\n",
    "            mmsdz[kk] = (z_oh[ll,(jj*(kk+1)+kk+1)]-z_oh[ll,jj*(kk+1)])**2+mmsdz[kk]\n",
    "            mmsdxy[kk] = ((x_oh[ll,(jj*(kk+1)+kk+1)]-x_oh[ll,jj*(kk+1)])*(y_oh[ll,(jj*(kk+1)+kk+1)]-y_oh[ll,jj*(kk+1)]))+mmsdxy[kk]\n",
    "            mmsdxz[kk] = ((x_oh[ll,(jj*(kk+1)+kk+1)]-x_oh[ll,jj*(kk+1)])*(z_oh[ll,(jj*(kk+1)+kk+1)]-z_oh[ll,jj*(kk+1)]))+mmsdxz[kk]\n",
    "            mmsdyz[kk] = ((y_oh[ll,(jj*(kk+1)+kk+1)]-y_oh[ll,jj*(kk+1)])*(z_oh[ll,(jj*(kk+1)+kk+1)]-z_oh[ll,jj*(kk+1)]))+mmsdyz[kk]\n",
    "            jj = jj+1\n",
    "    \n",
    "        mmsdx[kk] = mmsdx[kk]/((math.ceil(nsteps/(kk+1))-1))\n",
    "        mmsdy[kk] = mmsdy[kk]/((math.ceil(nsteps/(kk+1))-1))\n",
    "        mmsdz[kk] = mmsdz[kk]/((math.ceil(nsteps/(kk+1))-1))\n",
    "        mmsdxy[kk] = mmsdxy[kk]/((math.ceil(nsteps/(kk+1))-1))\n",
    "        mmsdxz[kk] = mmsdxz[kk]/((math.ceil(nsteps/(kk+1))-1))\n",
    "        mmsdyz[kk] = mmsdyz[kk]/((math.ceil(nsteps/(kk+1))-1))\n",
    "        kk = kk+1\n",
    "    \n",
    "    \n",
    "    fitx=np.polyfit(dtime[:],mmsdx[:],1)\n",
    "    fity=np.polyfit(dtime[:],mmsdy[:],1)\n",
    "    fitz=np.polyfit(dtime[:],mmsdz[:],1)\n",
    "    fitxy=np.polyfit(dtime[:],mmsdxy[:],1)\n",
    "    fitxz=np.polyfit(dtime[:],mmsdxz[:],1)\n",
    "    fityz=np.polyfit(dtime[:],mmsdyz[:],1)\n",
    "\n",
    "    dxx = fitx[0]/2\n",
    "    dyy = fity[0]/2\n",
    "    dzz = fitz[0]/2\n",
    "    dxy = fitxy[0]/2\n",
    "    dxz = fitxz[0]/2\n",
    "    dyz = fityz[0]/2\n",
    "\n",
    "\n",
    "    dd2d = np.array([[dxx, dxy], \n",
    "                 [dxy, dyy]])\n",
    "    w2,v2=eig(dd2d)\n",
    "\n",
    "\n",
    "    Dfxx[ll] = dxx\n",
    "    Dfyy[ll] = dyy\n",
    "    Dfzz[ll] = dzz\n",
    "    Dfxy[ll] = dxy\n",
    "    Dfxz[ll] = dxz\n",
    "    Dfyz[ll] = dyz\n",
    "    Dfx2d[ll] = w2[0]\n",
    "    Dfy2d[ll] = w2[1]\n",
    "    Df2d[ll] = ((w2[0]+w2[1])/2)\n",
    "    \n",
    "    ll = ll+1\n",
    "\n"
   ]
  },
  {
   "cell_type": "code",
   "execution_count": null,
   "metadata": {},
   "outputs": [],
   "source": []
  },
  {
   "cell_type": "code",
   "execution_count": null,
   "metadata": {},
   "outputs": [],
   "source": [
    "print('Dxx  =','{0: >#014.10f}'.format(np.mean(Dfxx)),'{0: >#014.10f}'.format(np.std(Dfxx)/np.sqrt(nrep)))\n",
    "print('Dyy  =','{0: >#014.10f}'.format(np.mean(Dfyy)),'{0: >#014.10f}'.format(np.std(Dfyy)/np.sqrt(nrep)))\n",
    "print('Dxy  =','{0: >#014.10f}'.format(np.mean(Dfxy)),'{0: >#014.10f}'.format(np.std(Dfxy)/np.sqrt(nrep)))\n",
    "print('-----------------------')\n",
    "print('Dx2  =','{0: >#014.10f}'.format(np.mean(Dfx2d)),'{0: >#014.10f}'.format(np.std(Dfx2d)/np.sqrt(nrep)))\n",
    "print('Dy2  =','{0: >#014.10f}'.format(np.mean(Dfy2d)),'{0: >#014.10f}'.format(np.std(Dfy2d)/np.sqrt(nrep)))\n",
    "print('D2d  =','{0: >#014.10f}'.format(np.mean(Df2d)),'{0: >#014.10f}'.format(np.std(Df2d)/np.sqrt(nrep)))"
   ]
  },
  {
   "cell_type": "code",
   "execution_count": null,
   "metadata": {},
   "outputs": [],
   "source": [
    "print('{0: >#014.10f}'.format(np.mean(Dfxx)),'{0: >#014.10f}'.format(np.std(Dfxx)/np.sqrt(nrep)),'{0: >#014.10f}'.format(np.mean(Dfyy)),'{0: >#014.10f}'.format(np.std(Dfyy)/np.sqrt(nrep)),'{0: >#014.10f}'.format(np.mean(Dfxy)),'{0: >#014.10f}'.format(np.std(Dfxy)/np.sqrt(nrep)),'{0: >#014.10f}'.format(np.mean(Dfx2d)),'{0: >#014.10f}'.format(np.std(Dfx2d)/np.sqrt(nrep)),'{0: >#014.10f}'.format(np.mean(Dfy2d)),'{0: >#014.10f}'.format(np.std(Dfy2d)/np.sqrt(nrep)),'{0: >#014.10f}'.format(np.mean(Df2d)),'{0: >#014.10f}'.format(np.std(Df2d)/np.sqrt(nrep)))"
   ]
  },
  {
   "cell_type": "code",
   "execution_count": null,
   "metadata": {},
   "outputs": [],
   "source": [
    "dtime[1]-dtime[0]"
   ]
  },
  {
   "cell_type": "code",
   "execution_count": null,
   "metadata": {},
   "outputs": [],
   "source": [
    "import seaborn as sns"
   ]
  },
  {
   "cell_type": "code",
   "execution_count": null,
   "metadata": {},
   "outputs": [],
   "source": [
    "# violin plot\n",
    "sns.violinplot(y=Df2d[:])\n",
    "\n",
    "# display the plot\n",
    "plt.show()"
   ]
  },
  {
   "cell_type": "code",
   "execution_count": null,
   "metadata": {},
   "outputs": [],
   "source": [
    "Df2d[:]"
   ]
  },
  {
   "cell_type": "code",
   "execution_count": null,
   "metadata": {},
   "outputs": [],
   "source": [
    "sns.stripplot(y=Df2d[:])\n",
    "#sns.stripplot(y=Dfy2d[:])"
   ]
  },
  {
   "cell_type": "code",
   "execution_count": null,
   "metadata": {},
   "outputs": [],
   "source": [
    "plt.boxplot(Df2d[:])\n",
    "plt.text(x = 1.1, y = Df2d[:].min(), s ='min')\n",
    "plt.text(x = 1.1, y = Df2d[:].max(), s ='max')"
   ]
  },
  {
   "cell_type": "code",
   "execution_count": null,
   "metadata": {},
   "outputs": [],
   "source": [
    "Df2d"
   ]
  },
  {
   "cell_type": "code",
   "execution_count": null,
   "metadata": {},
   "outputs": [],
   "source": [
    "np.mean(Df2d[0:5])"
   ]
  },
  {
   "cell_type": "code",
   "execution_count": null,
   "metadata": {},
   "outputs": [],
   "source": [
    "avD=np.empty(len(Df2d))\n",
    "avDx = np.empty(len(Df2d))\n",
    "avDy = np.empty(len(Df2d))\n",
    "errD = np.empty(len(Df2d))\n",
    "errDx = np.empty(len(Df2d))\n",
    "errDy = np.empty(len(Df2d))\n",
    "avD[0]=Df2d[0]\n",
    "avDx[0]=Dfxx[0]\n",
    "avDy[0]=Dfyy[0]\n",
    "errD[0] = 1\n",
    "errDx[0] = 1\n",
    "errDy[0] = 1\n",
    "kk=1\n",
    "while kk<len(Df2d):\n",
    "    avD[kk] = np.mean(Df2d[0:(kk+1)])\n",
    "    avDx[kk] = np.mean(Dfxx[0:(kk+1)])\n",
    "    avDy[kk] = np.mean(Dfyy[0:(kk+1)])\n",
    "    errD[kk] = np.std(Df2d[0:(kk+1)])/np.sqrt(kk+1)\n",
    "    errDx[kk] = np.std(Dfxx[0:(kk+1)])/np.sqrt(kk+1)\n",
    "    errDy[kk] = np.std(Dfyy[0:(kk+1)])/np.sqrt(kk+1)\n",
    "    #print(kk,Df2d[0:(kk+1)])\n",
    "    kk=kk+1"
   ]
  },
  {
   "cell_type": "code",
   "execution_count": null,
   "metadata": {},
   "outputs": [],
   "source": [
    "len(avD)"
   ]
  },
  {
   "cell_type": "code",
   "execution_count": null,
   "metadata": {},
   "outputs": [],
   "source": [
    "avD"
   ]
  },
  {
   "cell_type": "code",
   "execution_count": null,
   "metadata": {},
   "outputs": [],
   "source": [
    "errD"
   ]
  },
  {
   "cell_type": "code",
   "execution_count": null,
   "metadata": {},
   "outputs": [],
   "source": [
    "plt.figure(figsize=(9, 7))\n",
    "#plt.plot(avD[:],color='black',linewidth=4,label=\"x\")\n",
    "#plt.plot(np.arange(1, 26, 1, dtype=int),avDx[:],color='black',linewidth=2,label=\"x\",marker='o')\n",
    "plt.plot(np.arange(1, 26, 1, dtype=int),avD[:],color='Blue',linewidth=2,marker='o')\n",
    "#plt.plot(np.arange(1, 26, 1, dtype=int),avDy[:],color='r',linewidth=2,label=\"y\",marker='>',linestyle='--')\n",
    "\n",
    "plt.legend(loc=\"upper right\")\n",
    "plt.xlabel('N$_r$', fontsize=24)\n",
    "plt.ylabel('D [Å${^2}$ps${^{-1}]}$',fontsize=24)\n",
    "plt.tick_params(axis=\"x\",which='major', direction=\"in\", length=5, width=0.5)\n",
    "plt.tick_params(axis=\"y\",which='major',direction=\"in\", length=5, width=0.5)\n",
    "plt.tick_params(axis=\"x\",which='minor', direction=\"in\", length=5, width=0.5)\n",
    "plt.tick_params(axis=\"y\",which='minor',direction=\"in\", length=5, width=0.5)\n",
    "plt.grid(which='major',color='#CCCCCC', linestyle='--', linewidth=0.5)\n",
    "plt.ticklabel_format(axis=\"x\", style=\"plain\", scilimits=(0,0),useMathText=True)\n",
    "plt.tick_params(bottom=True, top=True, left=True, right=True)\n",
    "plt.yticks(fontsize=18)\n",
    "plt.xticks(fontsize=18)\n",
    "#plt.savefig(path[0] +'/avD_vs_rep.jpg', dpi=400)"
   ]
  },
  {
   "cell_type": "code",
   "execution_count": null,
   "metadata": {},
   "outputs": [],
   "source": [
    "plt.figure(figsize=(9, 7))\n",
    "plt.plot(np.arange(2, 26, 1, dtype=int),errD[1:],color='Red',linewidth=2,marker='o')\n",
    "#plt.plot(np.arange(2, 26, 1, dtype=int),errDx[1:],color='black',linewidth=2,label=\"x\",marker='o')\n",
    "#plt.plot(np.arange(2, 26, 1, dtype=int),errDy[1:][:],color='r',linewidth=2,label=\"y\",marker='>',linestyle='--')\n",
    "#plt.legend(loc=\"upper right\")\n",
    "plt.xlabel('N$_r$', fontsize=24)\n",
    "#plt.ylabel('Error [Å$\\mathbf{^2}$ps$\\mathbf{^{-1}]}$',fontsize=18,fontweight='bold')\n",
    "plt.ylabel('Error [Å${^2}$ps${^{-1}]}$',fontsize=24)\n",
    "plt.tick_params(axis=\"x\",which='major', direction=\"in\", length=5, width=0.5)\n",
    "plt.tick_params(axis=\"y\",which='major',direction=\"in\", length=5, width=0.5)\n",
    "plt.tick_params(axis=\"x\",which='minor', direction=\"in\", length=5, width=0.5)\n",
    "plt.tick_params(axis=\"y\",which='minor',direction=\"in\", length=5, width=0.5)\n",
    "plt.grid(which='major',color='#CCCCCC', linestyle='--', linewidth=0.5)\n",
    "plt.ticklabel_format(axis=\"x\", style=\"plain\", scilimits=(0,0),useMathText=True)\n",
    "plt.tick_params(bottom=True, top=True, left=True, right=True)\n",
    "plt.yticks(fontsize=16)\n",
    "plt.xticks(fontsize=16)\n",
    "#plt.savefig(path[0] +'/errD_vs_rep.jpg', dpi=400)"
   ]
  },
  {
   "cell_type": "code",
   "execution_count": null,
   "metadata": {},
   "outputs": [],
   "source": [
    "np.arange(2, 26, 1, dtype=int)"
   ]
  },
  {
   "cell_type": "code",
   "execution_count": null,
   "metadata": {},
   "outputs": [],
   "source": [
    "errDy"
   ]
  },
  {
   "cell_type": "code",
   "execution_count": null,
   "metadata": {},
   "outputs": [],
   "source": []
  },
  {
   "cell_type": "code",
   "execution_count": null,
   "metadata": {},
   "outputs": [],
   "source": [
    "fig, ax1 = plt.subplots(figsize=(12, 8))\n",
    "\n",
    "color = 'tab:blue'\n",
    "ax1.set_xlabel('N$_r$', fontsize=24, color='black')\n",
    "ax1.set_ylabel('D [Å${^2}$ps${^{-1}]}$', color='black', fontsize=24)\n",
    "line1, = ax1.plot(np.arange(1, 26, 1, dtype=int), avD[:], color=color, linewidth=2, marker='o', label='D')\n",
    "ax1.tick_params(axis='both', which='major', direction='in', length=5, width=0.5)\n",
    "ax1.grid(which='major', axis='both', linestyle='--', linewidth=0.5)\n",
    "plt.yticks(fontsize=16)\n",
    "plt.xticks(fontsize=16)\n",
    "\n",
    "ax2 = ax1.twinx()\n",
    "color = 'tab:red'\n",
    "ax2.set_ylabel('error [Å${^2}$ps${^{-1}]}$', color='black', fontsize=24)\n",
    "line2, = ax2.plot(np.arange(2, 26, 1, dtype=int), errD[1:], '-.D', color=color, linewidth=2, marker='D', label='Error')\n",
    "ax2.tick_params(axis='both', which='major', direction='in', length=5, width=0.5)\n",
    "ax2.grid(which='major', axis='both', linestyle='--', linewidth=0.5)\n",
    "\n",
    "# added legends\n",
    "plt.legend([line1, line2], ['D', 'Error'], loc='upper right', fontsize=14)\n",
    "\n",
    "plt.yticks(fontsize=16)\n",
    "plt.xticks(fontsize=16)\n",
    "fig.tight_layout()\n",
    "#plt.savefig(path[0] +'/avD_vs_rep.jpg', dpi=400)\n",
    "plt.show()"
   ]
  },
  {
   "cell_type": "code",
   "execution_count": null,
   "metadata": {},
   "outputs": [],
   "source": []
  },
  {
   "cell_type": "code",
   "execution_count": null,
   "metadata": {},
   "outputs": [],
   "source": []
  }
 ],
 "metadata": {
  "kernelspec": {
   "display_name": "Python 3",
   "language": "python",
   "name": "python3"
  },
  "language_info": {
   "codemirror_mode": {
    "name": "ipython",
    "version": 3
   },
   "file_extension": ".py",
   "mimetype": "text/x-python",
   "name": "python",
   "nbconvert_exporter": "python",
   "pygments_lexer": "ipython3",
   "version": "3.7.6"
  }
 },
 "nbformat": 4,
 "nbformat_minor": 4
}
