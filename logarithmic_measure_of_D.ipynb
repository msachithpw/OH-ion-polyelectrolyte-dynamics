{
 "cells": [
  {
   "cell_type": "markdown",
   "metadata": {},
   "source": [
    "# logarithmic measure of D"
   ]
  },
  {
   "cell_type": "code",
   "execution_count": 1,
   "metadata": {},
   "outputs": [],
   "source": [
    "import numpy as np\n",
    "import math\n",
    "import matplotlib.pyplot as plt\n",
    "import matplotlib.ticker as mtick\n",
    "from numpy.linalg import eig\n",
    "from scipy.optimize import curve_fit"
   ]
  },
  {
   "cell_type": "code",
   "execution_count": 2,
   "metadata": {},
   "outputs": [],
   "source": [
    "nrep = 20  # number of replications\n",
    "#path_main = \"C:/Users/Sachith/Desktop/work_oh/bulk_water/\"\n",
    "path_main = \"C:/Users/Sachith/Desktop/work_oh/different_water_density/water10/\" \n",
    "path = [None] * (nrep)\n",
    "nn = 0\n",
    "while (nn<nrep):\n",
    "    path[nn] = path_main +'md'+str(nn+1)\n",
    "    nn = nn+1\n",
    "\n",
    "\n",
    "path.remove(\"C:/Users/Sachith/Desktop/work_oh/different_water_density/water10/md1\")\n",
    "#path.remove(\"C:/Users/Sachith/Desktop/work_oh/different_water_density/water20/md8\")\n",
    "#path.remove(\"C:/Users/Sachith/Desktop/work_oh/Differnt_separations/15_13/water_20/md20\")\n",
    "#path.remove(\"C:/Users/Sachith/Desktop/work_oh/Differnt_separations/15_13/water_20/md18\")\n",
    "#path.remove(\"C:/Users/Sachith/Desktop/work_oh/Differnt_separations/15_13/water_20/md19\")\n",
    "#path.remove(\"C:/Users/Sachith/Desktop/work_oh/different_substituents/(CO)NH2/md23\")"
   ]
  },
  {
   "cell_type": "code",
   "execution_count": 3,
   "metadata": {},
   "outputs": [
    {
     "data": {
      "text/plain": [
       "19"
      ]
     },
     "execution_count": 3,
     "metadata": {},
     "output_type": "execute_result"
    }
   ],
   "source": [
    "nrep =len(path)\n",
    "nrep"
   ]
  },
  {
   "cell_type": "code",
   "execution_count": 4,
   "metadata": {},
   "outputs": [
    {
     "name": "stdout",
     "output_type": "stream",
     "text": [
      "nsteps:    1090\n",
      "natoms:    293\n",
      "nonmvat:    261\n",
      "nmovingatoms:    32\n",
      "MDRestartFrequency:    10\n",
      "dt:    1.0\n",
      "noh:    1\n",
      "nwater:    10\n",
      "nox:    11\n",
      "nhy:    21\n",
      "xbox:    12.664\n",
      "ybox:    13.3552\n",
      "zbox:    40.0\n"
     ]
    }
   ],
   "source": [
    "f=open(path[0] +'/input_data.dat','r')\n",
    "lines=f.readlines()\n",
    "for line in lines[0:]:\n",
    "    data=line.split()\n",
    "    if data[0]=='nsteps:':\n",
    "        nsteps = int(data[1])\n",
    "    if data[0]=='natoms:':\n",
    "        natoms = int(data[1])\n",
    "    if data[0]=='nonmvat:':\n",
    "        nonmvat = int(data[1])\n",
    "    if data[0]=='nmovingatoms:':\n",
    "        nmovingatoms = int(data[1])\n",
    "    if data[0]=='MDRestartFrequency:':\n",
    "        MDRestartFrequency = int(data[1])\n",
    "    if data[0]=='dt:':\n",
    "        dt = float(data[1])\n",
    "    if data[0]=='noh:':\n",
    "        noh = int(data[1])\n",
    "    if data[0]=='nwater:':\n",
    "        nwater = int(data[1])\n",
    "    if data[0]=='nox:':\n",
    "        nox = int(data[1])\n",
    "    if data[0]=='nhy:':\n",
    "        nhy = int(data[1])\n",
    "    if data[0]=='xbox:':\n",
    "        xbox = float(data[1])\n",
    "    if data[0]=='ybox:':\n",
    "        ybox = float(data[1])\n",
    "    if data[0]=='zbox:':\n",
    "        zbox = float(data[1])\n",
    "\n",
    "nsteps = int((nsteps/MDRestartFrequency)+1)-1 #+ int((nsteps2/MDRestartFrequency)+1)-2 #+int((nsteps3/MDRestartFrequency)+1)\n",
    "nsteps = 1090\n",
    "nstep = nsteps\n",
    "        \n",
    "print('nsteps:','  ',nsteps )\n",
    "print('natoms:','  ',natoms)\n",
    "print('nonmvat:','  ',nonmvat)\n",
    "print('nmovingatoms:','  ',nmovingatoms)\n",
    "print('MDRestartFrequency:','  ',MDRestartFrequency)\n",
    "print('dt:','  ',dt)\n",
    "print('noh:','  ',noh)\n",
    "print('nwater:','  ',nwater)\n",
    "print('nox:','  ',nox)\n",
    "print('nhy:','  ',nhy)\n",
    "print('xbox:','  ',xbox)\n",
    "print('ybox:','  ',ybox)\n",
    "print('zbox:','  ',zbox)"
   ]
  },
  {
   "cell_type": "code",
   "execution_count": 5,
   "metadata": {},
   "outputs": [],
   "source": [
    "x_oh = np.empty(nsteps*nrep).reshape(nrep,nsteps)\n",
    "y_oh = np.empty(nsteps*nrep).reshape(nrep,nsteps)\n",
    "z_oh = np.empty(nsteps*nrep).reshape(nrep,nsteps)"
   ]
  },
  {
   "cell_type": "code",
   "execution_count": 6,
   "metadata": {},
   "outputs": [],
   "source": [
    "kk = 0\n",
    "while (kk<nrep):\n",
    "    ii = 0\n",
    "    f=open(path[kk] +'/oh1.dat','r')\n",
    "    lines=f.readlines()\n",
    "    for line in lines[:nstep]:\n",
    "        data=line.split()\n",
    "        x_oh[kk,ii]=float(data[2])\n",
    "        y_oh[kk,ii]=float(data[3])\n",
    "        z_oh[kk,ii]=float(data[4])\n",
    "        ii = ii+1\n",
    "    f.close()\n",
    "    kk = kk+1"
   ]
  },
  {
   "cell_type": "code",
   "execution_count": 7,
   "metadata": {},
   "outputs": [],
   "source": [
    "kk = 0\n",
    "while (kk<nrep):\n",
    "\n",
    "    ll = 0\n",
    "    x_old = x_oh[kk,0]\n",
    "    y_old = y_oh[kk,0]\n",
    "    while ll<(nsteps):\n",
    "        ijk = 1\n",
    "        while ijk < 2:\n",
    "            ijk = ijk+1\n",
    "            if abs(x_oh[kk,ll]-x_old)>5:\n",
    "                if x_oh[kk,ll]>x_old:\n",
    "                    x_oh[kk,ll] = x_oh[kk,ll]-xbox\n",
    "                    ijk = 1\n",
    "                elif x_oh[kk,ll]<x_old:\n",
    "                    x_oh[kk,ll] = x_oh[kk,ll]+xbox\n",
    "                    ijk = 1\n",
    "            if abs(y_oh[kk,ll]-y_old)>5: # atom need to be moved in y\n",
    "                if y_oh[kk,ll]>y_old:\n",
    "                    y_oh[kk,ll] = y_oh[kk,ll]-ybox\n",
    "                    ijk = 1\n",
    "                elif y_oh[kk,ll]<y_old:\n",
    "                    y_oh[kk,ll] = y_oh[kk,ll]+ybox\n",
    "                    ijk = 1\n",
    "        x_old = x_oh[kk,ll]\n",
    "        y_old = y_oh[kk,ll]\n",
    "        ll = ll+1\n",
    "    \n",
    "    \n",
    "    kk = kk+1"
   ]
  },
  {
   "cell_type": "code",
   "execution_count": 8,
   "metadata": {},
   "outputs": [],
   "source": [
    "nbin = 15\n",
    "his = []"
   ]
  },
  {
   "cell_type": "code",
   "execution_count": 9,
   "metadata": {},
   "outputs": [
    {
     "name": "stdout",
     "output_type": "stream",
     "text": [
      "0.3\n"
     ]
    }
   ],
   "source": [
    "ll = 0\n",
    "kk = 29\n",
    "dt = 0.01+(kk*0.01)\n",
    "print(dt)\n",
    "hs = []\n",
    "while ll<nrep:\n",
    "    jj = 0\n",
    "    while jj< ((nsteps/(kk+1))-1):\n",
    "#        dr = ((x_oh[ll,(jj*(kk+1)+kk+1)]-x_oh[ll,jj*(kk+1)])**2)+((y_oh[ll,(jj*(kk+1)+kk+1)]-y_oh[ll,jj*(kk+1)])**2)\n",
    "        dr = ((x_oh[ll,(jj+kk+1)]-x_oh[ll,jj])**2)+((y_oh[ll,(jj+kk+1)]-y_oh[ll,jj])**2)\n",
    "        ss = dr/(4*dt)\n",
    "        nta = math.log10(ss)\n",
    "        hs.append(nta)\n",
    "        jj = jj+1   \n",
    "    ll = ll+1\n"
   ]
  },
  {
   "cell_type": "code",
   "execution_count": 10,
   "metadata": {},
   "outputs": [
    {
     "name": "stdout",
     "output_type": "stream",
     "text": [
      "-3.728703803547755\n",
      "0.8316267299548702\n"
     ]
    }
   ],
   "source": [
    "print(min(hs))\n",
    "print(max(hs))"
   ]
  },
  {
   "cell_type": "code",
   "execution_count": 11,
   "metadata": {},
   "outputs": [
    {
     "data": {
      "image/png": "[encoded data removed]",
      "text/plain": [
       "<Figure size 432x288 with 1 Axes>"
      ]
     },
     "metadata": {
      "needs_background": "light"
     },
     "output_type": "display_data"
    }
   ],
   "source": [
    "his, n, patches =plt.hist(hs,bins = np.arange(-3.8, 0.9, 0.05),density=True)\n",
    "plt.xlabel('η')\n",
    "plt.ylabel('H')\n",
    "plt.tick_params(axis=\"x\",which='major', direction=\"in\", length=5, width=0.5)\n",
    "plt.tick_params(axis=\"y\",which='major',direction=\"in\", length=5, width=0.5)\n",
    "plt.tick_params(axis=\"x\",which='minor', direction=\"in\", length=5, width=0.5)\n",
    "plt.tick_params(axis=\"y\",which='minor',direction=\"in\", length=5, width=0.5)\n",
    "plt.grid(which='major',color='#CCCCCC', linestyle='--', linewidth=0.5)\n",
    "plt.ticklabel_format(axis=\"x\", style=\"plain\", scilimits=(0,0),useMathText=True)\n",
    "plt.tick_params(bottom=True, top=True, left=True, right=True)\n",
    "plt.savefig(path[0] +'/hist006.jpg', dpi=400)\n",
    "plt.show() "
   ]
  },
  {
   "cell_type": "code",
   "execution_count": 12,
   "metadata": {},
   "outputs": [
    {
     "data": {
      "text/plain": [
       "93"
      ]
     },
     "execution_count": 12,
     "metadata": {},
     "output_type": "execute_result"
    }
   ],
   "source": [
    "i=0\n",
    "nta = np.empty((len(n)-1))\n",
    "while i<(len(n)-1):\n",
    "    nta[i] = (n[i]+n[i+1])/2\n",
    "    i = i+1\n",
    "len(nta)"
   ]
  },
  {
   "cell_type": "code",
   "execution_count": 13,
   "metadata": {},
   "outputs": [
    {
     "data": {
      "text/plain": [
       "-0.025000000000013234"
      ]
     },
     "execution_count": 13,
     "metadata": {},
     "output_type": "execute_result"
    }
   ],
   "source": [
    "nta[75]"
   ]
  },
  {
   "cell_type": "code",
   "execution_count": 14,
   "metadata": {},
   "outputs": [
    {
     "data": {
      "text/plain": [
       "[<matplotlib.lines.Line2D at 0x1a2eb64a088>]"
      ]
     },
     "execution_count": 14,
     "metadata": {},
     "output_type": "execute_result"
    },
    {
     "data": {
      "image/png": "[encoded data removed]",
      "text/plain": [
       "<Figure size 432x288 with 1 Axes>"
      ]
     },
     "metadata": {
      "needs_background": "light"
     },
     "output_type": "display_data"
    }
   ],
   "source": [
    "plt.figure()\n",
    "plt.plot(nta[77:-1],his[77:-1])"
   ]
  },
  {
   "cell_type": "code",
   "execution_count": 15,
   "metadata": {},
   "outputs": [
    {
     "data": {
      "text/plain": [
       "array([0.25735225])"
      ]
     },
     "execution_count": 15,
     "metadata": {},
     "output_type": "execute_result"
    }
   ],
   "source": [
    "def func(x, sig):\n",
    "    lam = 2*np.log(10)*dt/sig**2\n",
    "    y =  (lam*10**x)*np.exp(-2*dt*10**x/sig**2)\n",
    "    return y\n",
    "\n",
    "def func1(x, sig,lam):\n",
    "    y =  (lam*10**x)*np.exp(-2*dt*10**x/sig**2)\n",
    "    return y\n",
    "\n",
    "al1 = 0.9\n",
    "def func2(x, sig1,sig2,lam1,lam2):\n",
    "    y =  ((al1*lam1*10**x)*np.exp(-2*dt*10**x/sig1**2))+(((1-al1)*lam2*10**x)*np.exp(-2*dt*10**x/sig2**2))\n",
    "    return y\n",
    "\n",
    "def func21(x, sig1,sig2):\n",
    "    lam1 = 2*np.log(10)*dt/sig1**2\n",
    "    lam2 = 2*np.log(10)*dt/sig2**2\n",
    "    y =  ((al1*lam1*10**x)*np.exp(-2*dt*10**x/sig1**2))+(((1-al1)*lam2*10**x)*np.exp(-2*dt*10**x/sig2**2))\n",
    "    return y\n",
    "\n",
    "guess = 0.9\n",
    "nta_1 = np.copy(nta[0:])\n",
    "his_1 = np.copy(his[0:])\n",
    "parameters, covariance = curve_fit(func, nta_1, his_1,p0=guess)\n",
    "#p0 = (0.2,0.3)\n",
    "#parameters, covariance = curve_fit(func21, nta[:], his[:],p0 = p0)\n",
    "parameters"
   ]
  },
  {
   "cell_type": "code",
   "execution_count": 16,
   "metadata": {},
   "outputs": [
    {
     "data": {
      "text/plain": [
       "<matplotlib.legend.Legend at 0x1a2eb610e88>"
      ]
     },
     "execution_count": 16,
     "metadata": {},
     "output_type": "execute_result"
    },
    {
     "data": {
      "image/png": "[encoded data removed]",
      "text/plain": [
       "<Figure size 432x288 with 1 Axes>"
      ]
     },
     "metadata": {
      "needs_background": "light"
     },
     "output_type": "display_data"
    }
   ],
   "source": [
    "#fit_y = func1(nta, parameters[0], parameters[1])\n",
    "fit_y = func(nta_1, parameters[0])\n",
    "#fit_y = func2(nta, parameters[0],parameters[1],parameters[2],parameters[3])\n",
    "#fit_y = func21(nta, parameters[0],parameters[1])\n",
    "plt.plot(nta_1, his_1, 'o', label='data')\n",
    "plt.plot(nta_1, fit_y, '-', label='fit')\n",
    "plt.xlabel('η')\n",
    "plt.ylabel('H')\n",
    "plt.tick_params(axis=\"x\",which='major', direction=\"in\", length=5, width=0.5)\n",
    "plt.tick_params(axis=\"y\",which='major',direction=\"in\", length=5, width=0.5)\n",
    "plt.tick_params(axis=\"x\",which='minor', direction=\"in\", length=5, width=0.5)\n",
    "plt.tick_params(axis=\"y\",which='minor',direction=\"in\", length=5, width=0.5)\n",
    "plt.grid(which='major',color='#CCCCCC', linestyle='--', linewidth=0.5)\n",
    "plt.ticklabel_format(axis=\"x\", style=\"plain\", scilimits=(0,0),useMathText=True)\n",
    "plt.tick_params(bottom=True, top=True, left=True, right=True)\n",
    "plt.legend()\n",
    "#plt.savefig(path[0] +'/Hvsη.jpg', dpi=400)"
   ]
  },
  {
   "cell_type": "code",
   "execution_count": 17,
   "metadata": {},
   "outputs": [
    {
     "data": {
      "image/png": "[encoded data removed]",
      "text/plain": [
       "<Figure size 432x288 with 1 Axes>"
      ]
     },
     "metadata": {
      "needs_background": "light"
     },
     "output_type": "display_data"
    }
   ],
   "source": [
    "#fit_y = func1(nta, parameters[0], parameters[1])\n",
    "fit_y = func(nta, parameters[0])\n",
    "his, n, patches =plt.hist(hs,bins = np.arange(-3.8, 0.9, 0.05),density=True ,label='data')\n",
    "#fit_y = func2(nta, parameters[0],parameters[1],parameters[2],parameters[3])\n",
    "#fit_y = func21(nta, parameters[0],parameters[1])\n",
    "#plt.plot(nta, his, 'o', label='data')\n",
    "plt.plot(nta, fit_y, '-', label='fit')\n",
    "plt.xlabel('η')\n",
    "plt.ylabel('H')\n",
    "plt.tick_params(axis=\"x\",which='major', direction=\"in\", length=5, width=0.5)\n",
    "plt.tick_params(axis=\"y\",which='major',direction=\"in\", length=5, width=0.5)\n",
    "plt.tick_params(axis=\"x\",which='minor', direction=\"in\", length=5, width=0.5)\n",
    "plt.tick_params(axis=\"y\",which='minor',direction=\"in\", length=5, width=0.5)\n",
    "plt.grid(which='major',color='#CCCCCC', linestyle='--', linewidth=0.5)\n",
    "plt.ticklabel_format(axis=\"x\", style=\"plain\", scilimits=(0,0),useMathText=True)\n",
    "plt.tick_params(bottom=True, top=True, left=True, right=True)\n",
    "plt.legend()\n",
    "plt.savefig(path[0] +'/Hvsη.jpg', dpi=400)"
   ]
  },
  {
   "cell_type": "code",
   "execution_count": 18,
   "metadata": {},
   "outputs": [
    {
     "name": "stdout",
     "output_type": "stream",
     "text": [
      "0.14106784654424753       93\n"
     ]
    }
   ],
   "source": [
    "err = np.sqrt(np.sum((his-fit_y)**2)/len(his))\n",
    "print(err,'     ',len(his))\n",
    "\n",
    "#np.sqrt((np.sum((his-fit_y)**2)/len(his))/(np.sum(fit_y**2)/len(his)))"
   ]
  },
  {
   "cell_type": "code",
   "execution_count": null,
   "metadata": {},
   "outputs": [],
   "source": []
  },
  {
   "cell_type": "code",
   "execution_count": 19,
   "metadata": {},
   "outputs": [],
   "source": [
    "sigma = parameters[0]\n",
    "#lambd = parameters[1]"
   ]
  },
  {
   "cell_type": "code",
   "execution_count": 20,
   "metadata": {},
   "outputs": [
    {
     "data": {
      "text/plain": [
       "20.859840520247204"
      ]
     },
     "execution_count": 20,
     "metadata": {},
     "output_type": "execute_result"
    }
   ],
   "source": [
    "2*np.log(10)*dt/sigma**2"
   ]
  },
  {
   "cell_type": "code",
   "execution_count": 21,
   "metadata": {},
   "outputs": [],
   "source": [
    "#lambd"
   ]
  },
  {
   "cell_type": "code",
   "execution_count": 22,
   "metadata": {},
   "outputs": [
    {
     "data": {
      "text/plain": [
       "0.11038363839642426"
      ]
     },
     "execution_count": 22,
     "metadata": {},
     "output_type": "execute_result"
    }
   ],
   "source": [
    "sigma**2/(2*dt)"
   ]
  },
  {
   "cell_type": "code",
   "execution_count": 23,
   "metadata": {},
   "outputs": [
    {
     "data": {
      "text/plain": [
       "0.3"
      ]
     },
     "execution_count": 23,
     "metadata": {},
     "output_type": "execute_result"
    }
   ],
   "source": [
    "dt"
   ]
  },
  {
   "cell_type": "code",
   "execution_count": 24,
   "metadata": {},
   "outputs": [],
   "source": [
    "#orvalaped time intervel and finc\n",
    "dtt= np.array([0.01,   0.05,   0.1,    0.2,    0.3,      0.4,    0.5,    0.6,    0.7,   0.8])\n",
    "dd = np.array([0.09729,0.38936,0.51311,0.61633,0.6757346,0.69904,0.62365,0.62411,0.6124,0.555112820])\n",
    "er = [0.015302,0.0366830,0.04900454,0.08149,0.132847,0.11496728,0.1279670,0.12942516,0.1738469,0.1819643] # error of sigma\n",
    "sig = np.sqrt(2.0*dd*dtt)\n",
    "er2 = 2*sig*er # errpr of D"
   ]
  },
  {
   "cell_type": "code",
   "execution_count": 25,
   "metadata": {},
   "outputs": [],
   "source": [
    "#unorvalaped time intervel and finc1\n",
    "dtt= np.array([0.01,   0.05,   0.1,    0.2,    0.3,      0.4,    0.5,    0.6,    0.7,   0.8])\n",
    "dd = np.array([0.09729,0.37306,0.48543,0.54778,0.54564,0.529603,0.505647,0.47858,0.5376,0.45172])\n",
    "er = [0.01526,0.02675,0.05195,0.06298,0.06550,0.085181,0.084609,0.10802,0.1009,0.14249] # error of sigma\n",
    "sig = np.sqrt(2.0*dd*dtt)\n",
    "er2 = 2*sig*er # errpr of D"
   ]
  },
  {
   "cell_type": "code",
   "execution_count": 26,
   "metadata": {},
   "outputs": [
    {
     "data": {
      "image/png": "[encoded data removed]",
      "text/plain": [
       "<Figure size 432x288 with 1 Axes>"
      ]
     },
     "metadata": {
      "needs_background": "light"
     },
     "output_type": "display_data"
    }
   ],
   "source": [
    "plt.figure()\n",
    "plt.plot(dtt[:],dd[:],color='b',linewidth=2)\n",
    "plt.xlabel('dt (ps)')\n",
    "plt.ylabel('D')\n",
    "plt.errorbar(dtt[:],dd[:], yerr = er2[:],fmt ='o',color='b',markersize=6,linewidth=1,capsize=4)\n",
    "plt.tick_params(axis=\"x\",which='major', direction=\"in\", length=5, width=0.5)\n",
    "plt.tick_params(axis=\"y\",which='major',direction=\"in\", length=5, width=0.5)\n",
    "plt.tick_params(axis=\"x\",which='minor', direction=\"in\", length=5, width=0.5)\n",
    "plt.tick_params(axis=\"y\",which='minor',direction=\"in\", length=5, width=0.5)\n",
    "plt.grid(which='major',color='#CCCCCC', linestyle='--', linewidth=0.5)\n",
    "plt.ticklabel_format(axis=\"x\", style=\"plain\", scilimits=(0,0),useMathText=True)\n",
    "plt.tick_params(bottom=True, top=True, left=True, right=True)\n",
    "#plt.savefig(path[0] +'/DvsDt.jpg', dpi=400)"
   ]
  },
  {
   "cell_type": "code",
   "execution_count": 27,
   "metadata": {},
   "outputs": [
    {
     "ename": "NameError",
     "evalue": "name 'weights' is not defined",
     "output_type": "error",
     "traceback": [
      "\u001b[1;31m---------------------------------------------------------------------------\u001b[0m",
      "\u001b[1;31mNameError\u001b[0m                                 Traceback (most recent call last)",
      "\u001b[1;32m<ipython-input-27-b696e8d65695>\u001b[0m in \u001b[0;36m<module>\u001b[1;34m\u001b[0m\n\u001b[1;32m----> 1\u001b[1;33m \u001b[0mlen\u001b[0m\u001b[1;33m(\u001b[0m\u001b[0mweights\u001b[0m\u001b[1;33m)\u001b[0m\u001b[1;33m\u001b[0m\u001b[1;33m\u001b[0m\u001b[0m\n\u001b[0m",
      "\u001b[1;31mNameError\u001b[0m: name 'weights' is not defined"
     ]
    }
   ],
   "source": [
    "len(weights)"
   ]
  },
  {
   "cell_type": "code",
   "execution_count": null,
   "metadata": {},
   "outputs": [],
   "source": [
    "his_1"
   ]
  },
  {
   "cell_type": "code",
   "execution_count": null,
   "metadata": {},
   "outputs": [],
   "source": []
  },
  {
   "cell_type": "code",
   "execution_count": null,
   "metadata": {},
   "outputs": [],
   "source": []
  },
  {
   "cell_type": "code",
   "execution_count": null,
   "metadata": {},
   "outputs": [],
   "source": []
  },
  {
   "cell_type": "code",
   "execution_count": null,
   "metadata": {},
   "outputs": [],
   "source": []
  }
 ],
 "metadata": {
  "kernelspec": {
   "display_name": "Python 3",
   "language": "python",
   "name": "python3"
  },
  "language_info": {
   "codemirror_mode": {
    "name": "ipython",
    "version": 3
   },
   "file_extension": ".py",
   "mimetype": "text/x-python",
   "name": "python",
   "nbconvert_exporter": "python",
   "pygments_lexer": "ipython3",
   "version": "3.7.6"
  }
 },
 "nbformat": 4,
 "nbformat_minor": 4
}
